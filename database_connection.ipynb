{
 "cells": [
  {
   "cell_type": "code",
   "execution_count": 35,
   "metadata": {},
   "outputs": [],
   "source": [
    "import psycopg2 as ps\n",
    "import pandas as pd"
   ]
  },
  {
   "cell_type": "code",
   "execution_count": 36,
   "metadata": {},
   "outputs": [],
   "source": [
    "def connect_to_db(host, dbname, user, password, port):\n",
    "    try:\n",
    "        conn = ps.connect(host=host, database=dbname, user=user, password=password, port=port)\n",
    "    except ps.OperationalError as e:\n",
    "        raise e\n",
    "    else:\n",
    "        print('Connection successful')\n",
    "    return conn"
   ]
  },
  {
   "cell_type": "code",
   "execution_count": 37,
   "metadata": {},
   "outputs": [
    {
     "name": "stdout",
     "output_type": "stream",
     "text": [
      "Connection successful\n"
     ]
    }
   ],
   "source": [
    "host = #your host\n",
    "dbname = #your database name\n",
    "user = #your username\n",
    "password = #your password\n",
    "port = #your port\n",
    "\n",
    "conn = None\n",
    "conn = connect_to_db(host, dbname, user, password, port)"
   ]
  },
  {
   "cell_type": "code",
   "execution_count": 38,
   "metadata": {},
   "outputs": [
    {
     "data": {
      "text/html": [
       "<div>\n",
       "<style scoped>\n",
       "    .dataframe tbody tr th:only-of-type {\n",
       "        vertical-align: middle;\n",
       "    }\n",
       "\n",
       "    .dataframe tbody tr th {\n",
       "        vertical-align: top;\n",
       "    }\n",
       "\n",
       "    .dataframe thead th {\n",
       "        text-align: right;\n",
       "    }\n",
       "</style>\n",
       "<table border=\"1\" class=\"dataframe\">\n",
       "  <thead>\n",
       "    <tr style=\"text-align: right;\">\n",
       "      <th></th>\n",
       "      <th>video_id</th>\n",
       "      <th>video_title</th>\n",
       "      <th>upload_date</th>\n",
       "      <th>view_count</th>\n",
       "      <th>like_count</th>\n",
       "      <th>comment_count</th>\n",
       "      <th>duration</th>\n",
       "    </tr>\n",
       "  </thead>\n",
       "  <tbody>\n",
       "    <tr>\n",
       "      <th>0</th>\n",
       "      <td>KKH08BnAUBY</td>\n",
       "      <td>El Metodo Rebord #47 - Máximo Kirchner</td>\n",
       "      <td>2022-11-13</td>\n",
       "      <td>357818</td>\n",
       "      <td>11770</td>\n",
       "      <td>1468</td>\n",
       "      <td>03:44:41</td>\n",
       "    </tr>\n",
       "    <tr>\n",
       "      <th>1</th>\n",
       "      <td>FMO13F3Btd0</td>\n",
       "      <td>El Metodo Rebord #46 - Emmanuel Alvarez Agis</td>\n",
       "      <td>2022-11-06</td>\n",
       "      <td>264181</td>\n",
       "      <td>6447</td>\n",
       "      <td>858</td>\n",
       "      <td>02:31:29</td>\n",
       "    </tr>\n",
       "    <tr>\n",
       "      <th>2</th>\n",
       "      <td>Wevw4zbhScM</td>\n",
       "      <td>El Metodo Rebord #45 - El Bananero</td>\n",
       "      <td>2022-10-23</td>\n",
       "      <td>670968</td>\n",
       "      <td>27213</td>\n",
       "      <td>1598</td>\n",
       "      <td>01:43:17</td>\n",
       "    </tr>\n",
       "    <tr>\n",
       "      <th>3</th>\n",
       "      <td>yWlSbdnh6LA</td>\n",
       "      <td>Conclave #3 - Luquitas Rodriguez y Guille Aquino</td>\n",
       "      <td>2022-10-17</td>\n",
       "      <td>681154</td>\n",
       "      <td>16577</td>\n",
       "      <td>1053</td>\n",
       "      <td>02:55:56</td>\n",
       "    </tr>\n",
       "    <tr>\n",
       "      <th>4</th>\n",
       "      <td>FStaQVTWz2w</td>\n",
       "      <td>El Metodo Rebord #44 - Osvaldo Carnival</td>\n",
       "      <td>2022-10-09</td>\n",
       "      <td>58515</td>\n",
       "      <td>1539</td>\n",
       "      <td>373</td>\n",
       "      <td>02:03:01</td>\n",
       "    </tr>\n",
       "  </tbody>\n",
       "</table>\n",
       "</div>"
      ],
      "text/plain": [
       "      video_id                                       video_title upload_date  \\\n",
       "0  KKH08BnAUBY            El Metodo Rebord #47 - Máximo Kirchner  2022-11-13   \n",
       "1  FMO13F3Btd0      El Metodo Rebord #46 - Emmanuel Alvarez Agis  2022-11-06   \n",
       "2  Wevw4zbhScM                El Metodo Rebord #45 - El Bananero  2022-10-23   \n",
       "3  yWlSbdnh6LA  Conclave #3 - Luquitas Rodriguez y Guille Aquino  2022-10-17   \n",
       "4  FStaQVTWz2w           El Metodo Rebord #44 - Osvaldo Carnival  2022-10-09   \n",
       "\n",
       "   view_count  like_count  comment_count  duration  \n",
       "0      357818       11770           1468  03:44:41  \n",
       "1      264181        6447            858  02:31:29  \n",
       "2      670968       27213           1598  01:43:17  \n",
       "3      681154       16577           1053  02:55:56  \n",
       "4       58515        1539            373  02:03:01  "
      ]
     },
     "execution_count": 38,
     "metadata": {},
     "output_type": "execute_result"
    }
   ],
   "source": [
    "df = pd.read_csv('youtube_vids_2nd_pull(with time).csv', index_col=0)\n",
    "df.head()"
   ]
  },
  {
   "cell_type": "code",
   "execution_count": 39,
   "metadata": {},
   "outputs": [],
   "source": [
    "def create_table(curr):\n",
    "    create_table_command = (\"\"\"CREATE TABLE IF NOT EXISTS videos (\n",
    "        video_id VARCHAR(255) PRIMARY KEY,\n",
    "        video_title TEXT NOT NULL,\n",
    "        upload_date DATE NOT NULL DEFAULT CURRENT_DATE,\n",
    "        view_count INTEGER NOT NULL,\n",
    "        like_count INTEGER NOT NULL,\n",
    "        comment_count INTEGER NOT NULL,\n",
    "        duration VARCHAR(255)\n",
    "        )\"\"\")\n",
    "\n",
    "    curr.execute(create_table_command)"
   ]
  },
  {
   "cell_type": "code",
   "execution_count": 40,
   "metadata": {},
   "outputs": [],
   "source": [
    "curr = conn.cursor()"
   ]
  },
  {
   "cell_type": "code",
   "execution_count": 41,
   "metadata": {},
   "outputs": [],
   "source": [
    "create_table(curr)"
   ]
  },
  {
   "cell_type": "code",
   "execution_count": null,
   "metadata": {},
   "outputs": [],
   "source": []
  }
 ],
 "metadata": {
  "kernelspec": {
   "display_name": "Python 3",
   "language": "python",
   "name": "python3"
  },
  "language_info": {
   "codemirror_mode": {
    "name": "ipython",
    "version": 3
   },
   "file_extension": ".py",
   "mimetype": "text/x-python",
   "name": "python",
   "nbconvert_exporter": "python",
   "pygments_lexer": "ipython3",
   "version": "3.10.9 (tags/v3.10.9:1dd9be6, Dec  6 2022, 20:01:21) [MSC v.1934 64 bit (AMD64)]"
  },
  "orig_nbformat": 4,
  "vscode": {
   "interpreter": {
    "hash": "9ac9fd365c45c989063317d9da93ef85f0e69efc9d6454a093d85c2b11c89f1f"
   }
  }
 },
 "nbformat": 4,
 "nbformat_minor": 2
}
